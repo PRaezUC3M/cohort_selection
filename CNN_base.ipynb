{
  "nbformat": 4,
  "nbformat_minor": 0,
  "metadata": {
    "colab": {
      "name": "CNN-base.ipynb",
      "version": "0.3.2",
      "provenance": [],
      "collapsed_sections": [],
      "include_colab_link": true
    },
    "kernelspec": {
      "name": "python3",
      "display_name": "Python 3"
    },
    "accelerator": "GPU"
  },
  "cells": [
    {
      "cell_type": "markdown",
      "metadata": {
        "id": "view-in-github",
        "colab_type": "text"
      },
      "source": [
        "<a href=\"https://colab.research.google.com/github/PRaezUC3M/cohort_selection/blob/master/CNN_base.ipynb\" target=\"_parent\"><img src=\"https://colab.research.google.com/assets/colab-badge.svg\" alt=\"Open In Colab\"/></a>"
      ]
    },
    {
      "metadata": {
        "id": "VUhjUt2_2taj",
        "colab_type": "text"
      },
      "cell_type": "markdown",
      "source": [
        "**Mount the drive folder**"
      ]
    },
    {
      "metadata": {
        "id": "HA9j8Odl20Qj",
        "colab_type": "text"
      },
      "cell_type": "markdown",
      "source": [
        "**Load the train and test csv files**"
      ]
    },
    {
      "metadata": {
        "id": "XsZ86gUk2ne4",
        "colab_type": "code",
        "outputId": "d00a06c4-db58-4ffa-c45b-f79a7ce7fccc",
        "colab": {
          "base_uri": "https://localhost:8080/",
          "height": 122
        }
      },
      "cell_type": "code",
      "source": [
        "from google.colab import drive\n",
        "drive.mount('/content/drive')"
      ],
      "execution_count": 1,
      "outputs": [
        {
          "output_type": "stream",
          "text": [
            "Go to this URL in a browser: https://accounts.google.com/o/oauth2/auth?client_id=947318989803-6bn6qk8qdgf4n4g3pfee6491hc0brc4i.apps.googleusercontent.com&redirect_uri=urn%3Aietf%3Awg%3Aoauth%3A2.0%3Aoob&scope=email%20https%3A%2F%2Fwww.googleapis.com%2Fauth%2Fdocs.test%20https%3A%2F%2Fwww.googleapis.com%2Fauth%2Fdrive%20https%3A%2F%2Fwww.googleapis.com%2Fauth%2Fdrive.photos.readonly%20https%3A%2F%2Fwww.googleapis.com%2Fauth%2Fpeopleapi.readonly&response_type=code\n",
            "\n",
            "Enter your authorization code:\n",
            "··········\n",
            "Mounted at /content/drive\n"
          ],
          "name": "stdout"
        }
      ]
    },
    {
      "metadata": {
        "id": "vluB44afpEHL",
        "colab_type": "text"
      },
      "cell_type": "markdown",
      "source": [
        "# **Configurartion of the experiments**\n",
        "The different possible experiments have been automated. It is inspired in grid-search, and the parameters must be expressed in array-like style. You can find an example below."
      ]
    },
    {
      "metadata": {
        "id": "AdJIJMn1pbCa",
        "colab_type": "code",
        "colab": {}
      },
      "cell_type": "code",
      "source": [
        "# Baseline Model\n",
        "num_classes = 13\n",
        "\n",
        "embeddings_size = [200]\n",
        "conv_size = [128]\n",
        "conv_filter = [4]\n",
        "dropout = [0.1]\n",
        "fnn_size = [conv_size[-1] // 2, num_classes]"
      ],
      "execution_count": 0,
      "outputs": []
    },
    {
      "metadata": {
        "id": "K-Emhq-R2tLE",
        "colab_type": "code",
        "outputId": "d2c6d770-c909-439f-95e8-98af9a239bb0",
        "colab": {
          "base_uri": "https://localhost:8080/",
          "height": 51
        }
      },
      "cell_type": "code",
      "source": [
        "import pandas as pd\n",
        "import numpy as np\n",
        "\n",
        "SST_HOME='drive/My Drive/Colab Notebooks/CohortSelection/'\n",
        "\n",
        "def load_train():\n",
        "  path_train=SST_HOME+'data/train/train.csv'\n",
        "  train = pd.read_csv(path_train,header=0, delimiter=\"\\t\", quoting=3)\n",
        "\n",
        "  categories=train.columns[2:]\n",
        "\n",
        "  texts = train[['TEXT']].as_matrix()\n",
        "  train_x = [x[0].strip() for x in texts.tolist()]\n",
        "\n",
        "  #we only keep the columns with the categories.\n",
        "  train_y = train.drop(['IDFILE', 'TEXT'], axis=1).as_matrix()\n",
        "\n",
        "\n",
        "  print('training loaded')\n",
        "  \n",
        "  return train_x, train_y, categories\n",
        "\n",
        "def load_test():\n",
        "  path_test=SST_HOME+'data/test/test.csv'\n",
        "  test = pd.read_csv(path_test,header=0, delimiter=\"\\t\", quoting=3)\n",
        "  #gets the ids\n",
        "  idFiles = test[['IDFILE']].as_matrix().tolist()\n",
        "  #gets the texts\n",
        "  texts = test[['TEXT']].as_matrix()\n",
        "  test_x = [x[0].strip() for x in texts.tolist()]\n",
        "  #gets the labels\n",
        "  test_y = test.drop(['IDFILE', 'TEXT'], axis=1).as_matrix()\n",
        "\n",
        "  print('testing dataset loaded')\n",
        "  \n",
        "  return test_x, test_y, idFiles\n",
        "  \n",
        "train_x, train_y, categories = load_train()\n",
        "test_x, test_y, idFiles = load_test()"
      ],
      "execution_count": 2,
      "outputs": [
        {
          "output_type": "stream",
          "text": [
            "training loaded\n",
            "testing dataset loaded\n"
          ],
          "name": "stdout"
        }
      ]
    },
    {
      "metadata": {
        "id": "uaDhdU7pY7Qv",
        "colab_type": "text"
      },
      "cell_type": "markdown",
      "source": [
        "# **Oversampling**\n",
        "\n",
        "As the dataset is very unbalanced, we must perform over-sampling (which is to increase the minority class(es)). The RandomOverSampler **class** allows us to over-sample minority classes by  picking samples at random with replacement. We need to install the package **imbalanced-learn**.\n"
      ]
    },
    {
      "metadata": {
        "id": "4SRFMvOVZNfa",
        "colab_type": "code",
        "outputId": "fb718024-82f3-4ede-a3af-c4dfb75e6e28",
        "colab": {
          "base_uri": "https://localhost:8080/",
          "height": 258
        }
      },
      "cell_type": "code",
      "source": [
        "!pip3 install -U imbalanced-learn"
      ],
      "execution_count": 3,
      "outputs": [
        {
          "output_type": "stream",
          "text": [
            "Collecting imbalanced-learn\n",
            "\u001b[?25l  Downloading https://files.pythonhosted.org/packages/e5/4c/7557e1c2e791bd43878f8c82065bddc5798252084f26ef44527c02262af1/imbalanced_learn-0.4.3-py3-none-any.whl (166kB)\n",
            "\u001b[K    100% |████████████████████████████████| 174kB 7.0MB/s \n",
            "\u001b[?25hCollecting scikit-learn>=0.20 (from imbalanced-learn)\n",
            "\u001b[?25l  Downloading https://files.pythonhosted.org/packages/10/26/d04320c3edf2d59b1fcd0720b46753d4d603a76e68d8ad10a9b92ab06db2/scikit_learn-0.20.1-cp36-cp36m-manylinux1_x86_64.whl (5.4MB)\n",
            "\u001b[K    100% |████████████████████████████████| 5.4MB 7.6MB/s \n",
            "\u001b[?25hRequirement already satisfied, skipping upgrade: numpy>=1.8.2 in /usr/local/lib/python3.6/dist-packages (from imbalanced-learn) (1.14.6)\n",
            "Requirement already satisfied, skipping upgrade: scipy>=0.13.3 in /usr/local/lib/python3.6/dist-packages (from imbalanced-learn) (1.1.0)\n",
            "Installing collected packages: scikit-learn, imbalanced-learn\n",
            "  Found existing installation: scikit-learn 0.19.2\n",
            "    Uninstalling scikit-learn-0.19.2:\n",
            "      Successfully uninstalled scikit-learn-0.19.2\n",
            "Successfully installed imbalanced-learn-0.4.3 scikit-learn-0.20.1\n"
          ],
          "name": "stdout"
        }
      ]
    },
    {
      "metadata": {
        "id": "FS2hBEscZQSL",
        "colab_type": "code",
        "colab": {}
      },
      "cell_type": "code",
      "source": [
        "# Imports\n",
        "from imblearn.over_sampling import RandomOverSampler"
      ],
      "execution_count": 0,
      "outputs": []
    },
    {
      "metadata": {
        "id": "2meJcHd82-6W",
        "colab_type": "code",
        "outputId": "d8ce624d-bb37-4d7a-e340-d440c6cce597",
        "colab": {
          "base_uri": "https://localhost:8080/",
          "height": 119
        }
      },
      "cell_type": "code",
      "source": [
        "train_y[0]\n",
        "\n",
        "multilabel_multiclass_y = np.array([[(index + 1) for index, value in enumerate(y) if not value == 0] for y in train_y])\n",
        "multilabel_multiclass_y[:10]"
      ],
      "execution_count": 5,
      "outputs": [
        {
          "output_type": "execute_result",
          "data": {
            "text/plain": [
              "array([list([1, 3, 4, 6, 7, 8, 10, 12]), list([1, 2, 3, 4, 8, 10]),\n",
              "       list([1, 4, 6, 8, 10, 12]), list([1, 8, 10, 11]),\n",
              "       list([1, 3, 4, 6, 8, 9, 10, 12]), list([1, 2, 4, 8, 10]),\n",
              "       list([1, 2, 3, 8, 10, 12]), list([1, 4, 6, 8, 10, 12]),\n",
              "       list([1, 2, 3, 4, 6, 7, 8, 10]), list([1, 3, 4, 6, 8, 10, 12, 13])],\n",
              "      dtype=object)"
            ]
          },
          "metadata": {
            "tags": []
          },
          "execution_count": 5
        }
      ]
    },
    {
      "metadata": {
        "id": "ywzRr7Z_lbxP",
        "colab_type": "code",
        "colab": {
          "base_uri": "https://localhost:8080/",
          "height": 34
        },
        "outputId": "d42cd67d-85fc-42d9-b668-b70ee8d24df7"
      },
      "cell_type": "code",
      "source": [
        "any([len(i) == 0 for i in multilabel_multiclass_y])\n",
        "len(np.where(~train_y.any(axis=1))[0])"
      ],
      "execution_count": 8,
      "outputs": [
        {
          "output_type": "execute_result",
          "data": {
            "text/plain": [
              "0"
            ]
          },
          "metadata": {
            "tags": []
          },
          "execution_count": 8
        }
      ]
    },
    {
      "metadata": {
        "id": "Sj6oq5ZpZLy5",
        "colab_type": "code",
        "outputId": "f6b60f15-b81c-4c02-8944-8cde09f826b6",
        "colab": {
          "base_uri": "https://localhost:8080/",
          "height": 231
        }
      },
      "cell_type": "code",
      "source": [
        "ros = RandomOverSampler(random_state=9000)\n",
        "X_resampled, Y_resampled = ros.fit_resample(train_x_token, train_y.astype(np.float64))\n",
        "\n",
        "assert Y_resampled.shape[1] == train_y.shape[1]\n",
        "\"\"\"Compare both datasets (before oversampling) and after sampling)\"\"\"\n",
        "\n",
        "# Check Y_resampled has the same lables\n",
        "assert Y_resampled.shape[1] == train_y.shape[1]\n",
        "\n",
        "import seaborn as sns\n",
        "\n",
        "fig = plt.figure(figsize=(20,20))\n",
        "(ax_test, ax_train) = fig.subplots(ncols=2, nrows=1)\n",
        "g1 = sns.barplot(x=train_y.sum(axis=0), y=categories, ax=ax_test)\n",
        "g2 = sns.barplot(x=Y_resampled.sum(axis=0), y=categories, ax=ax_train)\n",
        "g1.set_title(\"class distribution before resampling\")\n",
        "g2.set_title(\"class distribution in training set after resampling\")"
      ],
      "execution_count": 0,
      "outputs": [
        {
          "output_type": "error",
          "ename": "AssertionError",
          "evalue": "ignored",
          "traceback": [
            "\u001b[0;31m---------------------------------------------------------------------------\u001b[0m",
            "\u001b[0;31mAssertionError\u001b[0m                            Traceback (most recent call last)",
            "\u001b[0;32m<ipython-input-223-f5ea5cd1e81e>\u001b[0m in \u001b[0;36m<module>\u001b[0;34m()\u001b[0m\n\u001b[1;32m      2\u001b[0m \u001b[0mX_resampled\u001b[0m\u001b[0;34m,\u001b[0m \u001b[0mY_resampled\u001b[0m \u001b[0;34m=\u001b[0m \u001b[0mros\u001b[0m\u001b[0;34m.\u001b[0m\u001b[0mfit_resample\u001b[0m\u001b[0;34m(\u001b[0m\u001b[0mtrain_x_token\u001b[0m\u001b[0;34m,\u001b[0m \u001b[0mtrain_y\u001b[0m\u001b[0;34m.\u001b[0m\u001b[0mastype\u001b[0m\u001b[0;34m(\u001b[0m\u001b[0mnp\u001b[0m\u001b[0;34m.\u001b[0m\u001b[0mfloat64\u001b[0m\u001b[0;34m)\u001b[0m\u001b[0;34m)\u001b[0m\u001b[0;34m\u001b[0m\u001b[0;34m\u001b[0m\u001b[0m\n\u001b[1;32m      3\u001b[0m \u001b[0;34m\u001b[0m\u001b[0m\n\u001b[0;32m----> 4\u001b[0;31m \u001b[0;32massert\u001b[0m \u001b[0mY_resampled\u001b[0m\u001b[0;34m.\u001b[0m\u001b[0mshape\u001b[0m\u001b[0;34m[\u001b[0m\u001b[0;36m1\u001b[0m\u001b[0;34m]\u001b[0m \u001b[0;34m==\u001b[0m \u001b[0mtrain_y\u001b[0m\u001b[0;34m.\u001b[0m\u001b[0mshape\u001b[0m\u001b[0;34m[\u001b[0m\u001b[0;36m1\u001b[0m\u001b[0;34m]\u001b[0m\u001b[0;34m\u001b[0m\u001b[0;34m\u001b[0m\u001b[0m\n\u001b[0m\u001b[1;32m      5\u001b[0m \u001b[0;34m\"\"\"Compare both datasets (before oversampling) and after sampling)\"\"\"\u001b[0m\u001b[0;34m\u001b[0m\u001b[0;34m\u001b[0m\u001b[0m\n\u001b[1;32m      6\u001b[0m \u001b[0;34m\u001b[0m\u001b[0m\n",
            "\u001b[0;31mAssertionError\u001b[0m: "
          ]
        }
      ]
    },
    {
      "metadata": {
        "id": "mfK0DBRqNVeL",
        "colab_type": "text"
      },
      "cell_type": "markdown",
      "source": [
        "#**Balancing the categories**\n",
        "We can see that there are some categories way more present than others in our dataset. Let's sort them."
      ]
    },
    {
      "metadata": {
        "id": "ABuXlWNYMuow",
        "colab_type": "code",
        "outputId": "a00ed187-c8d5-4a89-813d-6e0146390c73",
        "colab": {
          "base_uri": "https://localhost:8080/",
          "height": 381
        }
      },
      "cell_type": "code",
      "source": [
        "classes = np.add(sum(train_y), sum(test_y))\n",
        "import matplotlib.pyplot as plt\n",
        "print(classes)\n",
        "plt.plot(classes)"
      ],
      "execution_count": 0,
      "outputs": [
        {
          "output_type": "stream",
          "text": [
            "[185  88 121 141   1 129  77 222   8 219  14  91  20]\n"
          ],
          "name": "stdout"
        },
        {
          "output_type": "execute_result",
          "data": {
            "text/plain": [
              "[<matplotlib.lines.Line2D at 0x7f3a9c82ee48>]"
            ]
          },
          "metadata": {
            "tags": []
          },
          "execution_count": 60
        },
        {
          "output_type": "display_data",
          "data": {
            "image/png": "[encoded data removed]",
            "text/plain": [
              "<matplotlib.figure.Figure at 0x7f3a9c86e400>"
            ]
          },
          "metadata": {
            "tags": []
          }
        }
      ]
    },
    {
      "metadata": {
        "id": "cg3-Y6mkN_v4",
        "colab_type": "text"
      },
      "cell_type": "markdown",
      "source": [
        "Now we can see the differences in a easier way, we will add weights to the different classes, based on how present they are in the dataset."
      ]
    },
    {
      "metadata": {
        "id": "vSNK4zzBN9S4",
        "colab_type": "code",
        "colab": {}
      },
      "cell_type": "code",
      "source": [
        "total_cases = sum(classes)\n",
        "class_weight = [1 / (c/total_cases) for c in classes]"
      ],
      "execution_count": 0,
      "outputs": []
    },
    {
      "metadata": {
        "id": "ahWzoz_g7JWE",
        "colab_type": "text"
      },
      "cell_type": "markdown",
      "source": [
        "# **Tokenize the dataset and use the word embeddings**\n",
        "\n",
        "This shows the set of different words ordered by frequency. *tokenizer.word_index*\n",
        "\n",
        "The text is tokenized and cleaned of stop-words as well as punctuation signs. Also the numbers are substituted by a token \"nmbr\"\n",
        "\n",
        "We crop the beggining of the examples because it is the date when they\n",
        "were written down.\n",
        "\n",
        "Finally, and after being tokenized, the different sentences are padded to match the maximum length.\n",
        "\n",
        "max_length == 7813 it is really a huge vector because we have to pad\n",
        "it afterwards, in order to get it into the CNN"
      ]
    },
    {
      "metadata": {
        "id": "IWBYdxobTYQJ",
        "colab_type": "code",
        "outputId": "b3c04735-856a-4ad9-92cc-6f7ea915193e",
        "colab": {
          "base_uri": "https://localhost:8080/",
          "height": 51
        }
      },
      "cell_type": "code",
      "source": [
        "from keras.preprocessing.text import Tokenizer\n",
        "from keras.preprocessing.sequence import pad_sequences\n",
        "\n",
        "import nltk\n",
        "from nltk.corpus import stopwords\n",
        "nltk.download('stopwords')\n",
        "stop_words=stopwords.words('english')\n",
        "\n",
        "MAX_WORDS = 5000\n",
        "\n",
        "# Defined from the dataset itself.\n",
        "DATE_LENGTH = 23"
      ],
      "execution_count": 0,
      "outputs": [
        {
          "output_type": "stream",
          "text": [
            "[nltk_data] Downloading package stopwords to /root/nltk_data...\n",
            "[nltk_data]   Package stopwords is already up-to-date!\n"
          ],
          "name": "stdout"
        }
      ]
    },
    {
      "metadata": {
        "id": "xq9Z-kdItQpX",
        "colab_type": "text"
      },
      "cell_type": "markdown",
      "source": [
        "### CNN Input\n",
        "\n",
        "Here we take a maximum length of file by obtaining the accumulative density distribution of the training examples. This way we can see how many examples fall under certain threshold. Which will be fixed to 80% of the total examples. This length is 5000 words roughly."
      ]
    },
    {
      "metadata": {
        "id": "QZX0C6mHsSHg",
        "colab_type": "code",
        "outputId": "7b129672-aad0-4da1-c5d7-ca4b194e603e",
        "colab": {
          "base_uri": "https://localhost:8080/",
          "height": 347
        }
      },
      "cell_type": "code",
      "source": [
        "cropped_date_text = [sentence[DATE_LENGTH:] for sentence in train_x]\n",
        "lenghts = [len(sentence[DATE_LENGTH:].split(\" \")) for sentence in cropped_date_text]\n",
        "plt.hist(lenghts, cumulative=True)\n",
        "\n",
        "# Set the maximum phrase size as 5000\n",
        "max_length = 5000"
      ],
      "execution_count": 0,
      "outputs": [
        {
          "output_type": "display_data",
          "data": {
            "image/png": "[encoded data removed]",
            "text/plain": [
              "<matplotlib.figure.Figure at 0x7f3a980bd588>"
            ]
          },
          "metadata": {
            "tags": []
          }
        }
      ]
    },
    {
      "metadata": {
        "id": "AjwTL9Vkhwle",
        "colab_type": "code",
        "colab": {}
      },
      "cell_type": "code",
      "source": [
        "# We are using this function to clean the test set\n",
        "def tokenize_clean_text(text, tokenizer=None, max_length=None, \n",
        "                        max_words=MAX_WORDS, date_length=DATE_LENGTH):\n",
        "  \"\"\"\n",
        "  This function is in charge of tokenizing the text it is given. It also cleans\n",
        "  the text from stop-words, punctuation, and gives a special token to numbers.\n",
        "  \n",
        "  :param text: The texts to tokenize in a bidimensional python array.\n",
        "  \n",
        "  :returns: The tokenized and cleaned text in a bidimensional python array.\n",
        "            The tokenizer used to preprocess the text.\n",
        "            The maximum length used for padding.\n",
        "  \"\"\"  \n",
        "  # Consider to stemm or lemmatize the text \n",
        "  \n",
        "  cropped_date_text = [sentence[date_length:] for sentence in text]\n",
        "\n",
        "  if max_length == None:\n",
        "    # We get the maximum token length by splitting by spaces\n",
        "    max_length = max([len(sentence[date_length:].split(\" \")) for sentence in cropped_date_text])\n",
        "    \n",
        "  # We substitute the numbers by a token \"nmbr\" \n",
        "  cropped_date_numbers_text = [\" \".join([word if not word.isdigit() else \"nmbr\"\n",
        "                                for word in sentence.split()])\n",
        "                               for sentence in cropped_date_text]\n",
        "  \n",
        "  # Delete stopwords as well as every word less than 3 chars.\n",
        "  cropped_date_numbers_stopw_text = [\" \".join([word if not (word in stop_words or len(word) <= 3) else \"\"\n",
        "                                      for word in sentence.split()])\n",
        "                                     for sentence in cropped_date_numbers_text]\n",
        "  \n",
        "  if tokenizer is None:\n",
        "    tokenizer = Tokenizer(num_words=MAX_WORDS) # They use 5k words too\n",
        "    tokenizer.fit_on_texts(cropped_date_numbers_stopw_text)\n",
        "  # We tokenize the sentences\n",
        "  tokenized_text = tokenizer.texts_to_sequences(cropped_date_numbers_stopw_text)\n",
        "  \n",
        "  # Now we return the padded the sequences.\n",
        "  return pad_sequences(tokenized_text, max_length), tokenizer, max_length\n",
        "  "
      ],
      "execution_count": 0,
      "outputs": []
    },
    {
      "metadata": {
        "id": "NdRl3K-k0DeN",
        "colab_type": "code",
        "colab": {}
      },
      "cell_type": "code",
      "source": [
        "train_x_token, tokenizer, max_length = tokenize_clean_text(train_x, max_length=max_length)\n",
        "test_x_token, _, _ = tokenize_clean_text(test_x, tokenizer, max_length)\n",
        "assert len(train_x_token) == len(train_x)\n",
        "assert len(test_x_token) == len(test_x)"
      ],
      "execution_count": 0,
      "outputs": []
    },
    {
      "metadata": {
        "id": "c1liHvDdIc7C",
        "colab_type": "text"
      },
      "cell_type": "markdown",
      "source": [
        "# **TensorBoard**\n",
        "TensorBoard is a great tool for DL visualization. It shows the evolution of metrics during the training phase, as well as the weights, distributions, and even the graph of the neural net. \n",
        "\n",
        "We will be using tensorboardcolab in order to run a \n",
        "TensorBoard instance. This will initialize a ngrok machine and launch TensorBoard for us to see. \n",
        "\n",
        "TensorBoard will be accesible by the url "
      ]
    },
    {
      "metadata": {
        "id": "aN3qI7-RlOMh",
        "colab_type": "code",
        "outputId": "e497a564-6075-498b-d6c8-570034cf76f4",
        "colab": {
          "base_uri": "https://localhost:8080/",
          "height": 34
        }
      },
      "cell_type": "code",
      "source": [
        "# We install tensorboard colab in case we don't have it already.\n",
        "!pip install tensorboardcolab"
      ],
      "execution_count": 0,
      "outputs": [
        {
          "output_type": "stream",
          "text": [
            "Requirement already satisfied: tensorboardcolab in /usr/local/lib/python3.6/dist-packages (0.0.19)\n"
          ],
          "name": "stdout"
        }
      ]
    },
    {
      "metadata": {
        "id": "RqJWMm4pH-2f",
        "colab_type": "code",
        "outputId": "af40c77a-fb40-467c-aa20-c1c313f1f8ef",
        "colab": {
          "base_uri": "https://localhost:8080/",
          "height": 68
        }
      },
      "cell_type": "code",
      "source": [
        "import tensorboardcolab as tb\n",
        "\n",
        "tbc=tb.TensorBoardColab()"
      ],
      "execution_count": 0,
      "outputs": [
        {
          "output_type": "stream",
          "text": [
            "Wait for 8 seconds...\n",
            "TensorBoard link:\n",
            "http://25c82e5b.ngrok.io\n"
          ],
          "name": "stdout"
        }
      ]
    },
    {
      "metadata": {
        "id": "Xz02TQFG3dNE",
        "colab_type": "text"
      },
      "cell_type": "markdown",
      "source": [
        "#**Create a keras Embedding model**\n",
        "\n",
        "In this section we will create a Keras CNN model, compile, and train it.\n",
        "\n",
        "In this model we also generate the different embeddings for the words by using the Embedding Keras layer.  \n",
        "\n",
        "Some information about the architecture of the net is shown bellow. "
      ]
    },
    {
      "metadata": {
        "id": "W5FrX4FN3A2B",
        "colab_type": "code",
        "colab": {}
      },
      "cell_type": "code",
      "source": [
        "import keras\n",
        "from keras.models import Sequential\n",
        "from keras.layers import Dense, Activation, Embedding, Flatten, GlobalMaxPool1D, Dropout, Conv1D\n",
        "from keras.callbacks import ReduceLROnPlateau, EarlyStopping, ModelCheckpoint\n",
        "from keras.losses import binary_crossentropy\n",
        "from keras.optimizers import Adam"
      ],
      "execution_count": 0,
      "outputs": []
    },
    {
      "metadata": {
        "id": "nVIsVEtM7fSq",
        "colab_type": "code",
        "colab": {}
      },
      "cell_type": "code",
      "source": [
        "# Network parameters\n",
        "\n",
        "embedding_dim = 300\n",
        "filter_length = 128\n",
        "window_size = 3\n",
        "dropout = 0.1\n",
        "num_classes = len(train_y[0])\n",
        "fnn = [filter_length//2, num_classes]"
      ],
      "execution_count": 0,
      "outputs": []
    },
    {
      "metadata": {
        "id": "WWo65gnF3nfx",
        "colab_type": "code",
        "outputId": "a08d3226-5da5-45b1-d178-eed948417d07",
        "colab": {
          "base_uri": "https://localhost:8080/",
          "height": 408
        }
      },
      "cell_type": "code",
      "source": [
        "# Generate the sequential baseline model\n",
        "model = Sequential()\n",
        "model.add(Embedding(MAX_WORDS, embedding_dim, input_length=max_length))\n",
        "model.add(Dropout(dropout))\n",
        "model.add(Conv1D(filter_length, window_size, padding='valid', activation='relu', strides=1))\n",
        "model.add(GlobalMaxPool1D())\n",
        "model.add(Dense(filter_length//2))\n",
        "model.add(Dropout(dropout))\n",
        "model.add(Dense(num_classes))\n",
        "model.add(Activation('sigmoid'))\n",
        "\n",
        "# Compile the model\n",
        "model.compile(optimizer=\"adam\", loss=\"binary_crossentropy\", \n",
        "              metrics=[\"categorical_accuracy\"])\n",
        "\n",
        "# Print a summary of it.\n",
        "model.summary()\n"
      ],
      "execution_count": 0,
      "outputs": [
        {
          "output_type": "stream",
          "text": [
            "_________________________________________________________________\n",
            "Layer (type)                 Output Shape              Param #   \n",
            "=================================================================\n",
            "embedding_1 (Embedding)      (None, 5000, 300)         1500000   \n",
            "_________________________________________________________________\n",
            "dropout_1 (Dropout)          (None, 5000, 300)         0         \n",
            "_________________________________________________________________\n",
            "conv1d_1 (Conv1D)            (None, 4998, 128)         115328    \n",
            "_________________________________________________________________\n",
            "global_max_pooling1d_1 (Glob (None, 128)               0         \n",
            "_________________________________________________________________\n",
            "dense_1 (Dense)              (None, 64)                8256      \n",
            "_________________________________________________________________\n",
            "dropout_2 (Dropout)          (None, 64)                0         \n",
            "_________________________________________________________________\n",
            "dense_2 (Dense)              (None, 13)                845       \n",
            "_________________________________________________________________\n",
            "activation_1 (Activation)    (None, 13)                0         \n",
            "=================================================================\n",
            "Total params: 1,624,429\n",
            "Trainable params: 1,624,429\n",
            "Non-trainable params: 0\n",
            "_________________________________________________________________\n"
          ],
          "name": "stdout"
        }
      ]
    },
    {
      "metadata": {
        "id": "lTFqAwZM8F6z",
        "colab_type": "code",
        "colab": {}
      },
      "cell_type": "code",
      "source": [
        "# Define the callbacks\n",
        "callbacks = [\n",
        "    ReduceLROnPlateau(),\n",
        "    EarlyStopping(patience=4),\n",
        "    tb.TensorBoardColabCallback(tbc)\n",
        "]"
      ],
      "execution_count": 0,
      "outputs": []
    },
    {
      "metadata": {
        "id": "aq68IX-Y807N",
        "colab_type": "code",
        "outputId": "95c30f94-e145-4a47-a71f-fdcbc6dba63a",
        "colab": {
          "base_uri": "https://localhost:8080/",
          "height": 785
        }
      },
      "cell_type": "code",
      "source": [
        "# Fit the model and extract its data\n",
        "history = model.fit(train_x_token, train_y, epochs=20, batch_size=32, \n",
        "                    class_weight=class_weight, callbacks=callbacks,\n",
        "                    validation_data=(test_x_token, test_y))\n",
        "\n",
        "# Set a name for the model based on the tweaked parameters\n",
        "name = \"embedding_{}_dropout_{}_n-grams_{}_filter_len_{}_fnn_{}\".format(embedding_dim, dropout, window_size, filter_length, fnn)\n",
        "# And save the model\n",
        "model.save(SST_HOME+\"DL/models/\" + name)"
      ],
      "execution_count": 0,
      "outputs": [
        {
          "output_type": "stream",
          "text": [
            "Epoch 1/20\n",
            "202/202 [==============================] - 1s 5ms/step - loss: 0.0763 - categorical_accuracy: 0.1931\n",
            "Epoch 2/20\n",
            " 32/202 [===>..........................] - ETA: 0s - loss: 0.0743 - categorical_accuracy: 0.2188"
          ],
          "name": "stdout"
        },
        {
          "output_type": "stream",
          "text": [
            "/usr/local/lib/python3.6/dist-packages/keras/callbacks.py:1109: RuntimeWarning: Reduce LR on plateau conditioned on metric `val_loss` which is not available. Available metrics are: loss,categorical_accuracy,lr\n",
            "  (self.monitor, ','.join(list(logs.keys()))), RuntimeWarning\n",
            "/usr/local/lib/python3.6/dist-packages/keras/callbacks.py:569: RuntimeWarning: Early stopping conditioned on metric `val_loss` which is not available. Available metrics are: loss,categorical_accuracy,lr\n",
            "  (self.monitor, ','.join(list(logs.keys()))), RuntimeWarning\n"
          ],
          "name": "stderr"
        },
        {
          "output_type": "stream",
          "text": [
            "202/202 [==============================] - 1s 5ms/step - loss: 0.0651 - categorical_accuracy: 0.1683\n",
            "Epoch 3/20\n",
            "202/202 [==============================] - 1s 5ms/step - loss: 0.0529 - categorical_accuracy: 0.1535\n",
            "Epoch 4/20\n",
            "202/202 [==============================] - 1s 5ms/step - loss: 0.0482 - categorical_accuracy: 0.2079\n",
            "Epoch 5/20\n",
            "202/202 [==============================] - 1s 5ms/step - loss: 0.0397 - categorical_accuracy: 0.1881\n",
            "Epoch 6/20\n",
            "202/202 [==============================] - 1s 5ms/step - loss: 0.0333 - categorical_accuracy: 0.1931\n",
            "Epoch 7/20\n",
            "202/202 [==============================] - 1s 5ms/step - loss: 0.0305 - categorical_accuracy: 0.2327\n",
            "Epoch 8/20\n",
            "202/202 [==============================] - 1s 5ms/step - loss: 0.0253 - categorical_accuracy: 0.2426\n",
            "Epoch 9/20\n",
            "202/202 [==============================] - 1s 5ms/step - loss: 0.0212 - categorical_accuracy: 0.1683\n",
            "Epoch 10/20\n",
            "202/202 [==============================] - 1s 5ms/step - loss: 0.0211 - categorical_accuracy: 0.1337\n",
            "Epoch 11/20\n",
            "202/202 [==============================] - 1s 5ms/step - loss: 0.0165 - categorical_accuracy: 0.1931\n",
            "Epoch 12/20\n",
            "202/202 [==============================] - 1s 5ms/step - loss: 0.0154 - categorical_accuracy: 0.2673\n",
            "Epoch 13/20\n",
            "202/202 [==============================] - 1s 5ms/step - loss: 0.0150 - categorical_accuracy: 0.2376\n",
            "Epoch 14/20\n",
            "202/202 [==============================] - 1s 5ms/step - loss: 0.0126 - categorical_accuracy: 0.1485\n",
            "Epoch 15/20\n",
            "202/202 [==============================] - 1s 5ms/step - loss: 0.0106 - categorical_accuracy: 0.1931\n",
            "Epoch 16/20\n",
            "202/202 [==============================] - 1s 5ms/step - loss: 0.0101 - categorical_accuracy: 0.1980\n",
            "Epoch 17/20\n",
            "202/202 [==============================] - 1s 5ms/step - loss: 0.0099 - categorical_accuracy: 0.1683\n",
            "Epoch 18/20\n",
            "202/202 [==============================] - 1s 5ms/step - loss: 0.0084 - categorical_accuracy: 0.1535\n",
            "Epoch 19/20\n",
            "202/202 [==============================] - 1s 5ms/step - loss: 0.0081 - categorical_accuracy: 0.1980\n",
            "Epoch 20/20\n",
            "202/202 [==============================] - 1s 5ms/step - loss: 0.0075 - categorical_accuracy: 0.2376\n"
          ],
          "name": "stdout"
        }
      ]
    },
    {
      "metadata": {
        "id": "mcSt47P389_j",
        "colab_type": "code",
        "outputId": "a37bd6b0-bdaf-4015-9068-e8dd4bb138d8",
        "colab": {
          "base_uri": "https://localhost:8080/",
          "height": 428
        }
      },
      "cell_type": "code",
      "source": [
        "from sklearn.metrics import classification_report\n",
        "print(\"Applying best classifier on test data:\")\n",
        "\n",
        "predictions = model.predict(test_x_token)\n",
        "predictions = np.array([[0 if value < 0.5 else 1 for value in prediction] for prediction in predictions])\n",
        "\n",
        "# measuring performance on test set\n",
        "cr=classification_report(test_y, predictions, target_names=categories.values)\n",
        "print(cr)\n"
      ],
      "execution_count": 0,
      "outputs": [
        {
          "output_type": "stream",
          "text": [
            "Applying best classifier on test data:\n",
            "                 precision    recall  f1-score   support\n",
            "\n",
            "     ASP-FOR-MI       0.77      1.00      0.87        23\n",
            "      ABDOMINAL       0.75      0.27      0.40        11\n",
            "  DIETSUPP-2MOS       0.64      0.56      0.60        16\n",
            "   ADVANCED-CAD       0.54      0.81      0.65        16\n",
            "       KETO-1YR       0.00      0.00      0.00         0\n",
            " MAJOR-DIABETES       0.60      0.75      0.67        16\n",
            "          HBA1C       0.43      0.30      0.35        10\n",
            "MAKES-DECISIONS       0.93      1.00      0.97        28\n",
            "  ALCOHOL-ABUSE       0.00      0.00      0.00         1\n",
            "        ENGLISH       0.90      1.00      0.95        27\n",
            "     DRUG-ABUSE       0.00      0.00      0.00         2\n",
            "     CREATININE       0.67      0.44      0.53         9\n",
            "        MI-6MOS       0.00      0.00      0.00         2\n",
            "\n",
            "    avg / total       0.72      0.76      0.72       161\n",
            "\n"
          ],
          "name": "stdout"
        },
        {
          "output_type": "stream",
          "text": [
            "/usr/local/lib/python3.6/dist-packages/sklearn/metrics/classification.py:1135: UndefinedMetricWarning: Precision and F-score are ill-defined and being set to 0.0 in labels with no predicted samples.\n",
            "  'precision', 'predicted', average, warn_for)\n",
            "/usr/local/lib/python3.6/dist-packages/sklearn/metrics/classification.py:1137: UndefinedMetricWarning: Recall and F-score are ill-defined and being set to 0.0 in labels with no true samples.\n",
            "  'recall', 'true', average, warn_for)\n"
          ],
          "name": "stderr"
        }
      ]
    },
    {
      "metadata": {
        "id": "dnNlIl7YWSxw",
        "colab_type": "text"
      },
      "cell_type": "markdown",
      "source": [
        "#**Generating output in XML format**\n",
        "\n"
      ]
    },
    {
      "metadata": {
        "id": "X3xiVEPqLkF5",
        "colab_type": "code",
        "outputId": "ea6e72e8-9bb2-4af6-b902-f00cfd386b7b",
        "colab": {
          "base_uri": "https://localhost:8080/",
          "height": 34
        }
      },
      "cell_type": "code",
      "source": [
        "import xml.etree.ElementTree\n",
        "NOT='not met'\n",
        "MET='met'\n",
        "\n",
        "#gets a idFile, a dictionary with the predictions (category, label) and the name of the classifier used.\n",
        "def outputToXML(idFile,dictPred,classifier):\n",
        "    \n",
        "    path=SST_HOME+'data/test/xml/'+idFile+'.xml'\n",
        "    \n",
        "    output=SST_HOME+'data/output/'+classifier+'/'+idFile+'.xml'\n",
        "    \n",
        "   \n",
        "    et = xml.etree.ElementTree.parse(path)\n",
        "\n",
        "    new_tag = xml.etree.ElementTree.SubElement(et.getroot(), 'TAGS')\n",
        "    \n",
        "    for cat in dictPred.keys():\n",
        "        element = xml.etree.ElementTree.SubElement(new_tag, cat)    \n",
        "        if dictPred[cat]==0:\n",
        "            element.attrib['met'] = NOT \n",
        "        else:\n",
        "            element.attrib['met'] = MET\n",
        "\n",
        "    et.write(output)\n",
        "\n",
        "#function for creating a dictionary with the categories with values 0 or 1\n",
        "def iniDictPred(labels):\n",
        "    \n",
        "    if len(labels)!=len(categories):\n",
        "        print('Warning!!!')\n",
        "        return None\n",
        "    \n",
        "    dictPred={}\n",
        "    i=0\n",
        "    \n",
        "    for x in categories:\n",
        "        dictPred[x]=labels[i]\n",
        "        i=i+1\n",
        "    return dictPred\n",
        "  \n",
        "\n",
        "print('functions to generate XML files loaded!')"
      ],
      "execution_count": 0,
      "outputs": [
        {
          "output_type": "stream",
          "text": [
            "functions to generate XML files loaded!\n"
          ],
          "name": "stdout"
        }
      ]
    },
    {
      "metadata": {
        "id": "4RxszYeCwl0Y",
        "colab_type": "code",
        "outputId": "2c6c52a4-d2a7-40b2-a45b-811db3b675ee",
        "colab": {
          "base_uri": "https://localhost:8080/",
          "height": 34
        }
      },
      "cell_type": "code",
      "source": [
        "#creates the output xml files\n",
        "dictionary = zip(idFiles, predictions)\n",
        "for obj in dictionary:\n",
        "    idFile=str(obj[0][0])\n",
        "    labels=obj[1] #gets their predictions for this file\n",
        "    dictPred=iniDictPred(labels) #creates a dictionary to join categories and labels 0,1\n",
        "    outputToXML(idFile,dictPred,\"CNN\")\n",
        "\n",
        "print('output xml files were generated!')"
      ],
      "execution_count": 0,
      "outputs": [
        {
          "output_type": "stream",
          "text": [
            "output xml files were generated!\n"
          ],
          "name": "stdout"
        }
      ]
    },
    {
      "metadata": {
        "id": "RGvdwKYrWloR",
        "colab_type": "code",
        "outputId": "7985a15b-23f7-43c3-b049-28ecaf7431c7",
        "colab": {
          "base_uri": "https://localhost:8080/",
          "height": 374
        }
      },
      "cell_type": "code",
      "source": [
        "# We move to the main folder and execute the tests\n",
        "!cd \"drive/My Drive/Colab Notebooks/CohortSelection/\" && python3 track1_eval.py data/test/gold data/output/CNN >> \"drive/My Drive/Colab Notebooks/CohortSelection/\""
      ],
      "execution_count": 0,
      "outputs": [
        {
          "output_type": "stream",
          "text": [
            "******************************************* TRACK 1 ********************************************\n",
            "                      ------------ met -------------    ------ not met -------    -- overall ---\n",
            "                      Prec.   Rec.    Speci.  F(b=1)    Prec.   Rec.    F(b=1)    F(b=1)  AUC   \n",
            "           Abdominal  0.5000  0.4545  0.7368  0.4762    0.7000  0.7368  0.7179    0.5971  0.5957\n",
            "        Advanced-cad  0.8667  0.8125  0.8571  0.8387    0.8000  0.8571  0.8276    0.8331  0.8348\n",
            "       Alcohol-abuse  0.0000  0.0000  1.0000  0.0000    0.9667  1.0000  0.9831    0.4915  0.5000\n",
            "          Asp-for-mi  0.7308  0.8261  0.0000  0.7755    0.0000  0.0000  0.0000    0.3878  0.4130\n",
            "          Creatinine  0.4444  0.4444  0.7619  0.4444    0.7619  0.7619  0.7619    0.6032  0.6032\n",
            "       Dietsupp-2mos  0.6500  0.8125  0.5000  0.7222    0.7000  0.5000  0.5833    0.6528  0.6562\n",
            "          Drug-abuse  0.0000  0.0000  1.0000  0.0000    0.9333  1.0000  0.9655    0.4828  0.5000\n",
            "             English  0.9000  1.0000  0.0000  0.9474    0.0000  0.0000  0.0000    0.4737  0.5000\n",
            "               Hba1c  1.0000  0.3000  1.0000  0.4615    0.7407  1.0000  0.8511    0.6563  0.6500\n",
            "            Keto-1yr  0.0000  0.0000  1.0000  0.0000    1.0000  1.0000  1.0000    0.5000  0.5000\n",
            "      Major-diabetes  0.8000  0.7500  0.7857  0.7742    0.7333  0.7857  0.7586    0.7664  0.7679\n",
            "     Makes-decisions  0.9333  1.0000  0.0000  0.9655    0.0000  0.0000  0.0000    0.4828  0.5000\n",
            "             Mi-6mos  0.0000  0.0000  1.0000  0.0000    0.9333  1.0000  0.9655    0.4828  0.5000\n",
            "                      ------------------------------    ----------------------    --------------\n",
            "     Overall (micro)  0.7848  0.7702  0.8515  0.7774    0.8405  0.8515  0.8460    0.8117  0.8109\n",
            "     Overall (macro)  0.5250  0.4923  0.6647  0.4927    0.6361  0.6647  0.6473    0.5700  0.5785\n",
            "\n",
            "                                                    30 files found                              \n"
          ],
          "name": "stdout"
        }
      ]
    },
    {
      "metadata": {
        "id": "5dt_5bZFXvUA",
        "colab_type": "text"
      },
      "cell_type": "markdown",
      "source": [
        "# **Generating a Keras model**\n",
        "\n",
        "In this case we still generate a model but will not train the word embeddings. Instead we will use the _\"wikipedia-pubmed-and-PMC\"_ word embeddings, which are already trained.\n",
        "\n",
        "In order to do so, we will have to perform a few additional steps before inputting the data to the network."
      ]
    },
    {
      "metadata": {
        "id": "R5-_TIkvYMpD",
        "colab_type": "text"
      },
      "cell_type": "markdown",
      "source": [
        "### Load the embeddings\n",
        "\n",
        "In this step, we load the word embeddings from the wikipedia, pubmed and PMC. Then we filter them adapting to the words we have in our dataset. This is, if the word appears in the pubmed we take its weights, which are set to 0 otherwise."
      ]
    },
    {
      "metadata": {
        "id": "07o9Lj0gY2lX",
        "colab_type": "code",
        "outputId": "d3d1ca4c-c47b-42cb-8351-805b591a024f",
        "colab": {
          "base_uri": "https://localhost:8080/",
          "height": 343
        }
      },
      "cell_type": "code",
      "source": [
        "# seemingly gensim is not installed in google colab\n",
        "!pip install gensim"
      ],
      "execution_count": 0,
      "outputs": [
        {
          "output_type": "stream",
          "text": [
            "Requirement already satisfied: gensim in /usr/local/lib/python3.6/dist-packages (3.6.0)\n",
            "Requirement already satisfied: smart-open>=1.2.1 in /usr/local/lib/python3.6/dist-packages (from gensim) (1.7.1)\n",
            "Requirement already satisfied: scipy>=0.18.1 in /usr/local/lib/python3.6/dist-packages (from gensim) (1.1.0)\n",
            "Requirement already satisfied: numpy>=1.11.3 in /usr/local/lib/python3.6/dist-packages (from gensim) (1.14.6)\n",
            "Requirement already satisfied: six>=1.5.0 in /usr/local/lib/python3.6/dist-packages (from gensim) (1.11.0)\n",
            "Requirement already satisfied: requests in /usr/local/lib/python3.6/dist-packages (from smart-open>=1.2.1->gensim) (2.18.4)\n",
            "Requirement already satisfied: bz2file in /usr/local/lib/python3.6/dist-packages (from smart-open>=1.2.1->gensim) (0.98)\n",
            "Requirement already satisfied: boto>=2.32 in /usr/local/lib/python3.6/dist-packages (from smart-open>=1.2.1->gensim) (2.49.0)\n",
            "Requirement already satisfied: boto3 in /usr/local/lib/python3.6/dist-packages (from smart-open>=1.2.1->gensim) (1.9.50)\n",
            "Requirement already satisfied: chardet<3.1.0,>=3.0.2 in /usr/local/lib/python3.6/dist-packages (from requests->smart-open>=1.2.1->gensim) (3.0.4)\n",
            "Requirement already satisfied: idna<2.7,>=2.5 in /usr/local/lib/python3.6/dist-packages (from requests->smart-open>=1.2.1->gensim) (2.6)\n",
            "Requirement already satisfied: certifi>=2017.4.17 in /usr/local/lib/python3.6/dist-packages (from requests->smart-open>=1.2.1->gensim) (2018.10.15)\n",
            "Requirement already satisfied: urllib3<1.23,>=1.21.1 in /usr/local/lib/python3.6/dist-packages (from requests->smart-open>=1.2.1->gensim) (1.22)\n",
            "Requirement already satisfied: jmespath<1.0.0,>=0.7.1 in /usr/local/lib/python3.6/dist-packages (from boto3->smart-open>=1.2.1->gensim) (0.9.3)\n",
            "Requirement already satisfied: s3transfer<0.2.0,>=0.1.10 in /usr/local/lib/python3.6/dist-packages (from boto3->smart-open>=1.2.1->gensim) (0.1.13)\n",
            "Requirement already satisfied: botocore<1.13.0,>=1.12.50 in /usr/local/lib/python3.6/dist-packages (from boto3->smart-open>=1.2.1->gensim) (1.12.50)\n",
            "Requirement already satisfied: docutils>=0.10 in /usr/local/lib/python3.6/dist-packages (from botocore<1.13.0,>=1.12.50->boto3->smart-open>=1.2.1->gensim) (0.14)\n",
            "Requirement already satisfied: python-dateutil<3.0.0,>=2.1; python_version >= \"2.7\" in /usr/local/lib/python3.6/dist-packages (from botocore<1.13.0,>=1.12.50->boto3->smart-open>=1.2.1->gensim) (2.5.3)\n"
          ],
          "name": "stdout"
        }
      ]
    },
    {
      "metadata": {
        "id": "kQ_9uijiYMcm",
        "colab_type": "code",
        "colab": {}
      },
      "cell_type": "code",
      "source": [
        "from gensim.models.keyedvectors import KeyedVectors\n",
        "\n",
        "PATH_W2V = \"drive/My Drive/Colab Notebooks/CohortSelection/DL/word2vect/wikipedia-pubmed-and-PMC-w2v.bin\""
      ],
      "execution_count": 0,
      "outputs": []
    },
    {
      "metadata": {
        "id": "sfHMKOyIc75X",
        "colab_type": "code",
        "colab": {}
      },
      "cell_type": "code",
      "source": [
        "# Network parameters\n",
        "\n",
        "embedding_dim = 200 # The model has that dimmensions\n",
        "filter_length = 128\n",
        "window_size = 4\n",
        "dropout = 0.1\n",
        "num_classes = len(train_y[0])\n",
        "fnn = [filter_length//2, num_classes]"
      ],
      "execution_count": 0,
      "outputs": []
    },
    {
      "metadata": {
        "id": "3nKQd17zXvGZ",
        "colab_type": "code",
        "colab": {}
      },
      "cell_type": "code",
      "source": [
        "def load_W2V_model(path):\n",
        "    model = KeyedVectors.load_word2vec_format(path, binary=True)\n",
        "    print(\"Loaded W2V model\")\n",
        "    return model"
      ],
      "execution_count": 0,
      "outputs": []
    },
    {
      "metadata": {
        "id": "VpIdt_WN_Xzy",
        "colab_type": "code",
        "outputId": "153e4f3d-8d85-4070-ef4d-b02ae3e064f5",
        "colab": {
          "base_uri": "https://localhost:8080/",
          "height": 34
        }
      },
      "cell_type": "code",
      "source": [
        "model = load_W2V_model(PATH_W2V)"
      ],
      "execution_count": 0,
      "outputs": [
        {
          "output_type": "stream",
          "text": [
            "Loaded W2V model\n"
          ],
          "name": "stdout"
        }
      ]
    },
    {
      "metadata": {
        "id": "lvUGTAlTZFpM",
        "colab_type": "code",
        "outputId": "cf1d7004-1fe2-461d-b712-4b8cc4cc0bff",
        "colab": {
          "base_uri": "https://localhost:8080/",
          "height": 34
        }
      },
      "cell_type": "code",
      "source": [
        "word_index = tokenizer.word_index\n",
        "embedding_matrix = np.zeros((MAX_WORDS, embedding_dim), dtype=np.float32)\n",
        "for word, i in word_index.items():\n",
        "  if i >= MAX_WORDS:\n",
        "      break\n",
        "  if word in model:\n",
        "      # words not found in embedding index will be all-zeros.\n",
        "      embedding_matrix[i] = model[word]\n",
        "        \n",
        "print(len(embedding_matrix))"
      ],
      "execution_count": 0,
      "outputs": [
        {
          "output_type": "stream",
          "text": [
            "5000\n"
          ],
          "name": "stdout"
        }
      ]
    },
    {
      "metadata": {
        "id": "rdIVzA70hBts",
        "colab_type": "text"
      },
      "cell_type": "markdown",
      "source": [
        "### Generate the model using the embeddings\n",
        "\n",
        "Here we will generate the model by using the embeddings provided and setting that layer to not be trained."
      ]
    },
    {
      "metadata": {
        "id": "erB1izh7hZnX",
        "colab_type": "code",
        "colab": {}
      },
      "cell_type": "code",
      "source": [
        "import keras\n",
        "from keras.models import Sequential\n",
        "from keras.layers import Dense, Activation, Embedding, Flatten, GlobalMaxPool1D, Dropout, Conv1D\n",
        "from keras.callbacks import ReduceLROnPlateau, EarlyStopping, ModelCheckpoint\n",
        "from keras.losses import binary_crossentropy\n",
        "from keras.optimizers import Adam"
      ],
      "execution_count": 0,
      "outputs": []
    },
    {
      "metadata": {
        "id": "VO69QOlvfHGM",
        "colab_type": "code",
        "outputId": "699c6add-bbf1-4c7c-f136-84cea325d816",
        "colab": {
          "base_uri": "https://localhost:8080/",
          "height": 408
        }
      },
      "cell_type": "code",
      "source": [
        "# Generate the sequential baseline model\n",
        "model = Sequential()\n",
        "model.add(Embedding(MAX_WORDS, embedding_dim, input_length=max_length, weights=[embedding_matrix], trainable=False))\n",
        "model.add(Dropout(dropout))\n",
        "model.add(Conv1D(filter_length, window_size, padding='valid', activation='relu', strides=1))\n",
        "model.add(GlobalMaxPool1D())\n",
        "model.add(Dense(filter_length//2))\n",
        "model.add(Dropout(dropout))\n",
        "model.add(Dense(num_classes))\n",
        "model.add(Activation('sigmoid'))\n",
        "\n",
        "# Compile the model\n",
        "model.compile(optimizer=\"adam\", loss=\"binary_crossentropy\", \n",
        "              metrics=[\"binary_accuracy\",\n",
        "                       \"categorical_accuracy\"])\n",
        "\n",
        "# Print a summary of it.\n",
        "model.summary()"
      ],
      "execution_count": 0,
      "outputs": [
        {
          "output_type": "stream",
          "text": [
            "_________________________________________________________________\n",
            "Layer (type)                 Output Shape              Param #   \n",
            "=================================================================\n",
            "embedding_15 (Embedding)     (None, 5000, 200)         1000000   \n",
            "_________________________________________________________________\n",
            "dropout_27 (Dropout)         (None, 5000, 200)         0         \n",
            "_________________________________________________________________\n",
            "conv1d_14 (Conv1D)           (None, 4997, 128)         102528    \n",
            "_________________________________________________________________\n",
            "global_max_pooling1d_9 (Glob (None, 128)               0         \n",
            "_________________________________________________________________\n",
            "dense_25 (Dense)             (None, 64)                8256      \n",
            "_________________________________________________________________\n",
            "dropout_28 (Dropout)         (None, 64)                0         \n",
            "_________________________________________________________________\n",
            "dense_26 (Dense)             (None, 13)                845       \n",
            "_________________________________________________________________\n",
            "activation_13 (Activation)   (None, 13)                0         \n",
            "=================================================================\n",
            "Total params: 1,111,629\n",
            "Trainable params: 111,629\n",
            "Non-trainable params: 1,000,000\n",
            "_________________________________________________________________\n"
          ],
          "name": "stdout"
        }
      ]
    },
    {
      "metadata": {
        "id": "yplbB8QLhVb_",
        "colab_type": "code",
        "colab": {}
      },
      "cell_type": "code",
      "source": [
        "# Define the callbacks\n",
        "callbacks = [\n",
        "    ReduceLROnPlateau(),\n",
        "    EarlyStopping(patience=4),\n",
        "    tb.TensorBoardColabCallback(tbc)\n",
        "]"
      ],
      "execution_count": 0,
      "outputs": []
    },
    {
      "metadata": {
        "id": "kCzHNjSMhjeS",
        "colab_type": "code",
        "outputId": "32919577-d51a-4e1a-9949-6b7501b0bf5a",
        "colab": {
          "base_uri": "https://localhost:8080/",
          "height": 734
        }
      },
      "cell_type": "code",
      "source": [
        "# Fit the model and extract its data\n",
        "history = model.fit(train_x_token, train_y, epochs=20, batch_size=32, \n",
        "                    class_weight=class_weight, callbacks=callbacks,\n",
        "                    validation_data=(test_x_token, test_y))\n",
        "\n",
        "# Set a name for the model based on the tweaked parameters\n",
        "name = \"embedding_{}_dropout_{}_n-grams_{}_filter_len_{}_fnn_{}\".format(embedding_dim, dropout, window_size, filter_length, fnn)\n",
        "# And save the model\n",
        "model.save(SST_HOME+\"DL/models/\" + name)"
      ],
      "execution_count": 0,
      "outputs": [
        {
          "output_type": "stream",
          "text": [
            "Train on 202 samples, validate on 30 samples\n",
            "Epoch 1/20\n",
            "202/202 [==============================] - 1s 5ms/step - loss: 0.5126 - binary_accuracy: 0.7407 - categorical_accuracy: 0.3812 - val_loss: 0.4712 - val_binary_accuracy: 0.7308 - val_categorical_accuracy: 0.0000e+00\n",
            "Epoch 2/20\n",
            "202/202 [==============================] - 1s 3ms/step - loss: 0.4523 - binary_accuracy: 0.7631 - categorical_accuracy: 0.0149 - val_loss: 0.4560 - val_binary_accuracy: 0.7795 - val_categorical_accuracy: 0.0000e+00\n",
            "Epoch 3/20\n",
            "202/202 [==============================] - 1s 3ms/step - loss: 0.4304 - binary_accuracy: 0.7795 - categorical_accuracy: 0.0149 - val_loss: 0.4491 - val_binary_accuracy: 0.7744 - val_categorical_accuracy: 0.0000e+00\n",
            "Epoch 4/20\n",
            "202/202 [==============================] - 1s 3ms/step - loss: 0.4170 - binary_accuracy: 0.7928 - categorical_accuracy: 0.0099 - val_loss: 0.4453 - val_binary_accuracy: 0.7872 - val_categorical_accuracy: 0.0000e+00\n",
            "Epoch 5/20\n",
            "202/202 [==============================] - 1s 3ms/step - loss: 0.3985 - binary_accuracy: 0.8096 - categorical_accuracy: 0.0198 - val_loss: 0.4365 - val_binary_accuracy: 0.7821 - val_categorical_accuracy: 0.0000e+00\n",
            "Epoch 6/20\n",
            "202/202 [==============================] - 1s 3ms/step - loss: 0.3837 - binary_accuracy: 0.8294 - categorical_accuracy: 0.0149 - val_loss: 0.4408 - val_binary_accuracy: 0.7821 - val_categorical_accuracy: 0.0000e+00\n",
            "Epoch 7/20\n",
            "202/202 [==============================] - 1s 3ms/step - loss: 0.3725 - binary_accuracy: 0.8324 - categorical_accuracy: 0.0198 - val_loss: 0.4386 - val_binary_accuracy: 0.7846 - val_categorical_accuracy: 0.0000e+00\n",
            "Epoch 8/20\n",
            "202/202 [==============================] - 1s 3ms/step - loss: 0.3527 - binary_accuracy: 0.8458 - categorical_accuracy: 0.0149 - val_loss: 0.4340 - val_binary_accuracy: 0.7795 - val_categorical_accuracy: 0.0000e+00\n",
            "Epoch 9/20\n",
            "202/202 [==============================] - 1s 3ms/step - loss: 0.3443 - binary_accuracy: 0.8503 - categorical_accuracy: 0.0099 - val_loss: 0.4375 - val_binary_accuracy: 0.7769 - val_categorical_accuracy: 0.0000e+00\n",
            "Epoch 10/20\n",
            "202/202 [==============================] - 1s 3ms/step - loss: 0.3285 - binary_accuracy: 0.8629 - categorical_accuracy: 0.0198 - val_loss: 0.4372 - val_binary_accuracy: 0.7974 - val_categorical_accuracy: 0.0000e+00\n",
            "Epoch 11/20\n",
            "202/202 [==============================] - 1s 3ms/step - loss: 0.3123 - binary_accuracy: 0.8793 - categorical_accuracy: 0.0099 - val_loss: 0.4308 - val_binary_accuracy: 0.7872 - val_categorical_accuracy: 0.0000e+00\n",
            "Epoch 12/20\n",
            "202/202 [==============================] - 1s 3ms/step - loss: 0.3026 - binary_accuracy: 0.8850 - categorical_accuracy: 0.0099 - val_loss: 0.4315 - val_binary_accuracy: 0.7923 - val_categorical_accuracy: 0.0000e+00\n",
            "Epoch 13/20\n",
            "202/202 [==============================] - 1s 3ms/step - loss: 0.2836 - binary_accuracy: 0.9014 - categorical_accuracy: 0.0149 - val_loss: 0.4278 - val_binary_accuracy: 0.8026 - val_categorical_accuracy: 0.0000e+00\n",
            "Epoch 14/20\n",
            "202/202 [==============================] - 1s 3ms/step - loss: 0.2655 - binary_accuracy: 0.9075 - categorical_accuracy: 0.0099 - val_loss: 0.4274 - val_binary_accuracy: 0.7846 - val_categorical_accuracy: 0.0000e+00\n",
            "Epoch 15/20\n",
            "202/202 [==============================] - 1s 3ms/step - loss: 0.2590 - binary_accuracy: 0.9117 - categorical_accuracy: 0.0099 - val_loss: 0.4270 - val_binary_accuracy: 0.8051 - val_categorical_accuracy: 0.0000e+00\n",
            "Epoch 16/20\n",
            "202/202 [==============================] - 1s 3ms/step - loss: 0.2430 - binary_accuracy: 0.9196 - categorical_accuracy: 0.0050 - val_loss: 0.4240 - val_binary_accuracy: 0.8077 - val_categorical_accuracy: 0.0000e+00\n",
            "Epoch 17/20\n",
            "202/202 [==============================] - 1s 3ms/step - loss: 0.2301 - binary_accuracy: 0.9242 - categorical_accuracy: 0.0099 - val_loss: 0.4273 - val_binary_accuracy: 0.7923 - val_categorical_accuracy: 0.0333\n",
            "Epoch 18/20\n",
            "202/202 [==============================] - 1s 3ms/step - loss: 0.2149 - binary_accuracy: 0.9353 - categorical_accuracy: 0.0198 - val_loss: 0.4262 - val_binary_accuracy: 0.8051 - val_categorical_accuracy: 0.0333\n",
            "Epoch 19/20\n",
            "202/202 [==============================] - 1s 3ms/step - loss: 0.2024 - binary_accuracy: 0.9341 - categorical_accuracy: 0.0198 - val_loss: 0.4253 - val_binary_accuracy: 0.7974 - val_categorical_accuracy: 0.0333\n",
            "Epoch 20/20\n",
            "202/202 [==============================] - 1s 3ms/step - loss: 0.1907 - binary_accuracy: 0.9398 - categorical_accuracy: 0.0347 - val_loss: 0.4240 - val_binary_accuracy: 0.8128 - val_categorical_accuracy: 0.0000e+00\n"
          ],
          "name": "stdout"
        }
      ]
    },
    {
      "metadata": {
        "id": "33chDQM_hlWM",
        "colab_type": "code",
        "outputId": "8347d990-3048-4df3-cb5e-11d94ee71782",
        "colab": {
          "base_uri": "https://localhost:8080/",
          "height": 428
        }
      },
      "cell_type": "code",
      "source": [
        "from sklearn.metrics import classification_report\n",
        "print(\"Applying best classifier on test data:\")\n",
        "\n",
        "predictions = model.predict(test_x_token)\n",
        "predictions = np.array([[0 if value < 0.5 else 1 for value in prediction] for prediction in predictions])\n",
        "\n",
        "# measuring performance on test set\n",
        "cr=classification_report(test_y, predictions, target_names=categories.values)\n",
        "print(cr)\n"
      ],
      "execution_count": 0,
      "outputs": [
        {
          "output_type": "stream",
          "text": [
            "Applying best classifier on test data:\n",
            "                 precision    recall  f1-score   support\n",
            "\n",
            "     ASP-FOR-MI       0.77      1.00      0.87        23\n",
            "      ABDOMINAL       0.50      0.45      0.48        11\n",
            "  DIETSUPP-2MOS       0.68      0.81      0.74        16\n",
            "   ADVANCED-CAD       0.65      0.81      0.72        16\n",
            "       KETO-1YR       0.00      0.00      0.00         0\n",
            " MAJOR-DIABETES       0.64      0.88      0.74        16\n",
            "          HBA1C       0.67      0.20      0.31        10\n",
            "MAKES-DECISIONS       0.93      1.00      0.97        28\n",
            "  ALCOHOL-ABUSE       0.00      0.00      0.00         1\n",
            "        ENGLISH       0.90      1.00      0.95        27\n",
            "     DRUG-ABUSE       0.00      0.00      0.00         2\n",
            "     CREATININE       0.62      0.56      0.59         9\n",
            "        MI-6MOS       0.00      0.00      0.00         2\n",
            "\n",
            "    avg / total       0.73      0.81      0.75       161\n",
            "\n"
          ],
          "name": "stdout"
        },
        {
          "output_type": "stream",
          "text": [
            "/usr/local/lib/python3.6/dist-packages/sklearn/metrics/classification.py:1135: UndefinedMetricWarning: Precision and F-score are ill-defined and being set to 0.0 in labels with no predicted samples.\n",
            "  'precision', 'predicted', average, warn_for)\n",
            "/usr/local/lib/python3.6/dist-packages/sklearn/metrics/classification.py:1137: UndefinedMetricWarning: Recall and F-score are ill-defined and being set to 0.0 in labels with no true samples.\n",
            "  'recall', 'true', average, warn_for)\n"
          ],
          "name": "stderr"
        }
      ]
    },
    {
      "metadata": {
        "id": "R3OiAD9FhrVX",
        "colab_type": "code",
        "outputId": "0fc8e310-66b7-4357-c2cc-8a42e9541935",
        "colab": {
          "base_uri": "https://localhost:8080/",
          "height": 34
        }
      },
      "cell_type": "code",
      "source": [
        "import xml.etree.ElementTree\n",
        "NOT='not met'\n",
        "MET='met'\n",
        "\n",
        "#gets a idFile, a dictionary with the predictions (category, label) and the name of the classifier used.\n",
        "def outputToXML(idFile,dictPred,classifier):\n",
        "    \n",
        "    path=SST_HOME+'data/test/xml/'+idFile+'.xml'\n",
        "    \n",
        "    output=SST_HOME+'data/output/'+classifier+'/'+idFile+'.xml'\n",
        "    \n",
        "   \n",
        "    et = xml.etree.ElementTree.parse(path)\n",
        "\n",
        "    new_tag = xml.etree.ElementTree.SubElement(et.getroot(), 'TAGS')\n",
        "    \n",
        "    for cat in dictPred.keys():\n",
        "        element = xml.etree.ElementTree.SubElement(new_tag, cat)    \n",
        "        if dictPred[cat]==0:\n",
        "            element.attrib['met'] = NOT \n",
        "        else:\n",
        "            element.attrib['met'] = MET\n",
        "\n",
        "    et.write(output)\n",
        "\n",
        "#function for creating a dictionary with the categories with values 0 or 1\n",
        "def iniDictPred(labels):\n",
        "    \n",
        "    if len(labels)!=len(categories):\n",
        "        print('Warning!!!')\n",
        "        return None\n",
        "    \n",
        "    dictPred={}\n",
        "    i=0\n",
        "    \n",
        "    for x in categories:\n",
        "        dictPred[x]=labels[i]\n",
        "        i=i+1\n",
        "    return dictPred\n",
        "  \n",
        "\n",
        "print('functions to generate XML files loaded!')"
      ],
      "execution_count": 0,
      "outputs": [
        {
          "output_type": "stream",
          "text": [
            "functions to generate XML files loaded!\n"
          ],
          "name": "stdout"
        }
      ]
    },
    {
      "metadata": {
        "id": "pjvqwCMwlCPb",
        "colab_type": "code",
        "outputId": "9e2c948d-0513-4216-897b-9ee4910dfd0b",
        "colab": {
          "base_uri": "https://localhost:8080/",
          "height": 34
        }
      },
      "cell_type": "code",
      "source": [
        "#creates the output xml files\n",
        "dictionary = zip(idFiles, predictions)\n",
        "for obj in dictionary:\n",
        "    idFile=str(obj[0][0])\n",
        "    labels=obj[1] #gets their predictions for this file\n",
        "    dictPred=iniDictPred(labels) #creates a dictionary to join categories and labels 0,1\n",
        "    outputToXML(idFile,dictPred,\"CNN_Embedding\")\n",
        "\n",
        "print('output xml files were generated!')"
      ],
      "execution_count": 0,
      "outputs": [
        {
          "output_type": "stream",
          "text": [
            "output xml files were generated!\n"
          ],
          "name": "stdout"
        }
      ]
    },
    {
      "metadata": {
        "id": "vpQXbVE8lFr7",
        "colab_type": "code",
        "outputId": "d68d1e76-4df1-428f-c551-476591fec6f8",
        "colab": {
          "base_uri": "https://localhost:8080/",
          "height": 374
        }
      },
      "cell_type": "code",
      "source": [
        "# We move to the main folder and execute the tests\n",
        "!cd \"drive/My Drive/Colab Notebooks/CohortSelection/\" && python3 track1_eval.py data/test/gold data/output/CNN_Embedding"
      ],
      "execution_count": 0,
      "outputs": [
        {
          "output_type": "stream",
          "text": [
            "******************************************* TRACK 1 ********************************************\n",
            "                      ------------ met -------------    ------ not met -------    -- overall ---\n",
            "                      Prec.   Rec.    Speci.  F(b=1)    Prec.   Rec.    F(b=1)    F(b=1)  AUC   \n",
            "           Abdominal  0.5000  0.4545  0.7368  0.4762    0.7000  0.7368  0.7179    0.5971  0.5957\n",
            "        Advanced-cad  0.6500  0.8125  0.5000  0.7222    0.7000  0.5000  0.5833    0.6528  0.6562\n",
            "       Alcohol-abuse  0.0000  0.0000  1.0000  0.0000    0.9667  1.0000  0.9831    0.4915  0.5000\n",
            "          Asp-for-mi  0.7667  1.0000  0.0000  0.8679    0.0000  0.0000  0.0000    0.4340  0.5000\n",
            "          Creatinine  0.6250  0.5556  0.8571  0.5882    0.8182  0.8571  0.8372    0.7127  0.7063\n",
            "       Dietsupp-2mos  0.6842  0.8125  0.5714  0.7429    0.7273  0.5714  0.6400    0.6914  0.6920\n",
            "          Drug-abuse  0.0000  0.0000  1.0000  0.0000    0.9333  1.0000  0.9655    0.4828  0.5000\n",
            "             English  0.9000  1.0000  0.0000  0.9474    0.0000  0.0000  0.0000    0.4737  0.5000\n",
            "               Hba1c  0.6667  0.2000  0.9500  0.3077    0.7037  0.9500  0.8085    0.5581  0.5750\n",
            "            Keto-1yr  0.0000  0.0000  1.0000  0.0000    1.0000  1.0000  1.0000    0.5000  0.5000\n",
            "      Major-diabetes  0.6364  0.8750  0.4286  0.7368    0.7500  0.4286  0.5455    0.6411  0.6518\n",
            "     Makes-decisions  0.9333  1.0000  0.0000  0.9655    0.0000  0.0000  0.0000    0.4828  0.5000\n",
            "             Mi-6mos  0.0000  0.0000  1.0000  0.0000    0.9333  1.0000  0.9655    0.4828  0.5000\n",
            "                      ------------------------------    ----------------------    --------------\n",
            "     Overall (micro)  0.7558  0.8075  0.8166  0.7808    0.8578  0.8166  0.8367    0.8087  0.8120\n",
            "     Overall (macro)  0.4894  0.5162  0.6188  0.4888    0.6333  0.6188  0.6190    0.5539  0.5675\n",
            "\n",
            "                                                    30 files found                              \n"
          ],
          "name": "stdout"
        }
      ]
    },
    {
      "metadata": {
        "id": "L99SrARkIDkF",
        "colab_type": "code",
        "colab": {}
      },
      "cell_type": "code",
      "source": [
        ""
      ],
      "execution_count": 0,
      "outputs": []
    }
  ]
}